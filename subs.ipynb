{
 "cells": [
  {
   "cell_type": "code",
   "execution_count": 1,
   "metadata": {},
   "outputs": [],
   "source": [
    "import os\n",
    "from pytube import YouTube\n",
    "\n",
    "def download_youtube_video(url, outfile):\n",
    "    try:\n",
    "        yt = YouTube(url)\n",
    "    except:\n",
    "        print(\"Connection error\")\n",
    "\n",
    "    audio_stream = yt.streams.get_highest_resolution()\n",
    "    \n",
    "    if os.path.exists(outfile):\n",
    "        os.remove(outfile)\n",
    "\n",
    "    audio_stream.download(filename=outfile)"
   ]
  },
  {
   "cell_type": "code",
   "execution_count": 2,
   "metadata": {},
   "outputs": [],
   "source": [
    "from pydub import AudioSegment\n",
    "\n",
    "def convert_file_to_wav(path, new_path):\n",
    "    sound = AudioSegment.from_file(path)\n",
    "    wav_file = sound.export(new_path, format='wav')\n",
    "    return wav_file"
   ]
  },
  {
   "cell_type": "code",
   "execution_count": 3,
   "metadata": {},
   "outputs": [],
   "source": [
    "\n",
    "\n",
    "def process_video(path):\n",
    "    # Using https://picovoice.ai/ API\n",
    "    print(\"Generating subtitles...\")\n",
    "    leopard = pvleopard.create(access_key=os.environ.get(\"PICO_ACCESS_KEY\"))\n",
    "    audio_file = convert_to_wav(path)\n",
    "    _, words = leopard.process_file(audio_file)\n",
    "    leopard.delete()\n",
    "    return words"
   ]
  },
  {
   "cell_type": "code",
   "execution_count": 8,
   "metadata": {},
   "outputs": [],
   "source": [
    "from typing import Sequence, Optional\n",
    "\n",
    "def second_to_timecode(x: float) -> str:\n",
    "    hour, x = divmod(x, 3600)\n",
    "    minute, x = divmod(x, 60)\n",
    "    second, x = divmod(x, 1)\n",
    "    millisecond = int(x * 1000.)\n",
    "\n",
    "    return '%.2d:%.2d:%.2d,%.3d' % (hour, minute, second, millisecond)\n",
    "\n",
    "def to_srt(\n",
    "        words: Sequence[pvleopard.Leopard.Word],\n",
    "        endpoint_sec: float = 1.,\n",
    "        length_limit: Optional[int] = 16) -> str:\n",
    "\n",
    "    lines = []\n",
    "    section = 0\n",
    "    start = 0\n",
    "\n",
    "    def add_section(end: int) -> None:\n",
    "        lines.append(\"%d\" % section)\n",
    "        lines.append(\n",
    "            \"%s --> %s\" %\n",
    "            (\n",
    "                second_to_timecode(words[start].start_sec),\n",
    "                second_to_timecode(words[end].end_sec)\n",
    "            )\n",
    "        )\n",
    "        lines.append(' '.join(x.word for x in words[start:(end + 1)]))\n",
    "        lines.append('')\n",
    "\n",
    "    for i in range(1, len(words)):\n",
    "        curr = words[i]\n",
    "        prev = words[i - 1]\n",
    "        new_line_by_pause = curr.start_sec - prev.end_sec >= endpoint_sec\n",
    "        new_line_by_length = length_limit is not None and (i - start) >= length_limit\n",
    "\n",
    "        if (new_line_by_pause or new_line_by_length):\n",
    "            add_section(i - 1)\n",
    "            start = i\n",
    "            section += 1\n",
    "            \n",
    "    add_section(len(words) - 1)\n",
    "\n",
    "    return '\\n'.join(lines)\n",
    "\n",
    "def save_file(string, filename):\n",
    "    with open(filename, 'w') as f:\n",
    "        f.write(string)"
   ]
  },
  {
   "cell_type": "code",
   "execution_count": 1,
   "metadata": {},
   "outputs": [
    {
     "ename": "NameError",
     "evalue": "name 'download_youtube_video' is not defined",
     "output_type": "error",
     "traceback": [
      "\u001b[1;31m---------------------------------------------------------------------------\u001b[0m",
      "\u001b[1;31mNameError\u001b[0m                                 Traceback (most recent call last)",
      "Cell \u001b[1;32mIn [1], line 4\u001b[0m\n\u001b[0;32m      1\u001b[0m URL \u001b[39m=\u001b[39m \u001b[39m\"\u001b[39m\u001b[39mhttps://www.youtube.com/shorts/q7xN1we-QBM\u001b[39m\u001b[39m\"\u001b[39m\n\u001b[1;32m----> 4\u001b[0m download_youtube_video(URL, \u001b[39m'\u001b[39m\u001b[39m./video.mp4\u001b[39m\u001b[39m'\u001b[39m)\n\u001b[0;32m      5\u001b[0m transcript, words \u001b[39m=\u001b[39m process_video(\u001b[39m'\u001b[39m\u001b[39m./video.mp4\u001b[39m\u001b[39m'\u001b[39m)\n\u001b[0;32m      7\u001b[0m srt \u001b[39m=\u001b[39m to_srt(words, \u001b[39m0.2\u001b[39m, \u001b[39m8\u001b[39m)\n",
      "\u001b[1;31mNameError\u001b[0m: name 'download_youtube_video' is not defined"
     ]
    }
   ],
   "source": [
    "URL = \"https://www.youtube.com/shorts/q7xN1we-QBM\"\n",
    "\n",
    "\n",
    "download_youtube_video(URL, './video.mp4')\n",
    "transcript, words = process_video('./video.mp4')\n",
    "\n",
    "srt = to_srt(words, 0.2, 8)\n",
    "save_file(srt, \"subtitles.srt\")"
   ]
  },
  {
   "cell_type": "code",
   "execution_count": 6,
   "metadata": {},
   "outputs": [],
   "source": [
    "\n",
    "def to_time_tuples(\n",
    "        words: Sequence[pvleopard.Leopard.Word],\n",
    "        endpoint_sec: float = 1.,\n",
    "        length_limit: Optional[int] = 16) -> str:\n",
    "    lines = []\n",
    "    section = 0\n",
    "    start = 0\n",
    "\n",
    "    def add_section(end: int) -> None:\n",
    "        combined_words = ' '.join(x.word for x in words[start:(end + 1)])\n",
    "        line = ((words[start].start_sec, words[end].end_sec), combined_words)\n",
    "        lines.append(line)\n",
    "\n",
    "    for i in range(1, len(words)):\n",
    "        curr = words[i]\n",
    "        prev = words[i - 1]\n",
    "        new_line_by_pause = curr.start_sec - prev.end_sec >= endpoint_sec\n",
    "        new_line_by_length = length_limit is not None and (i - start) >= length_limit\n",
    "\n",
    "        if (new_line_by_pause or new_line_by_length):\n",
    "            add_section(i - 1)\n",
    "            start = i\n",
    "            section += 1\n",
    "            \n",
    "    add_section(len(words) - 1)\n",
    "\n",
    "    return lines"
   ]
  },
  {
   "cell_type": "code",
   "execution_count": 7,
   "metadata": {},
   "outputs": [
    {
     "name": "stdout",
     "output_type": "stream",
     "text": [
      "Moviepy - Building video output.mp4.\n",
      "MoviePy - Writing audio in outputTEMP_MPY_wvf_snd.mp3\n"
     ]
    },
    {
     "name": "stderr",
     "output_type": "stream",
     "text": [
      "                                                                    \r"
     ]
    },
    {
     "name": "stdout",
     "output_type": "stream",
     "text": [
      "MoviePy - Done.\n",
      "Moviepy - Writing video output.mp4\n",
      "\n"
     ]
    },
    {
     "name": "stderr",
     "output_type": "stream",
     "text": [
      "                                                                \r"
     ]
    },
    {
     "name": "stdout",
     "output_type": "stream",
     "text": [
      "Moviepy - Done !\n",
      "Moviepy - video ready output.mp4\n"
     ]
    }
   ],
   "source": [
    "from moviepy.editor import *\n",
    "from moviepy.video.tools.subtitles import SubtitlesClip\n",
    "\n",
    "video = VideoFileClip('video.mp4')\n",
    "\n",
    "generator = lambda txt: TextClip(txt, font='Consolas', fontsize=22, color='yellow', bg_color=\"black\")\n",
    "\n",
    "subs = to_time_tuples(words, 0.2, 5)\n",
    "\n",
    "subtitles = SubtitlesClip(subs, generator)\n",
    "\n",
    "subtitles = subtitles.set_position((\"center\", \"center\"))\n",
    "\n",
    "result = CompositeVideoClip([video, subtitles])\n",
    "\n",
    "result.write_videofile(\"output.mp4\")\n",
    "\n",
    "video.close()"
   ]
  }
 ],
 "metadata": {
  "kernelspec": {
   "display_name": "Python 3.10.7 ('env': venv)",
   "language": "python",
   "name": "python3"
  },
  "language_info": {
   "codemirror_mode": {
    "name": "ipython",
    "version": 3
   },
   "file_extension": ".py",
   "mimetype": "text/x-python",
   "name": "python",
   "nbconvert_exporter": "python",
   "pygments_lexer": "ipython3",
   "version": "3.10.7"
  },
  "orig_nbformat": 4,
  "vscode": {
   "interpreter": {
    "hash": "ed4ee72c934a0b050d864bcc65fd9f7355b6e321b448013e4ebdf2cf1b653521"
   }
  }
 },
 "nbformat": 4,
 "nbformat_minor": 2
}
